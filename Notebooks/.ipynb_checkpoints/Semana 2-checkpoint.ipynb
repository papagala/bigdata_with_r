{
 "cells": [
  {
   "cell_type": "code",
   "execution_count": 1,
   "id": "db5efaaf",
   "metadata": {},
   "outputs": [],
   "source": [
    "suppressWarnings(suppressMessages(library(ff)))\n",
    "suppressWarnings(suppressMessages(library(ffbase)))\n",
    "suppressWarnings(suppressMessages(library(biglm)))"
   ]
  },
  {
   "cell_type": "markdown",
   "id": "5e897e52",
   "metadata": {},
   "source": [
    "# Punto 1. Con el paquete ff en R genere una matriz M de tamaño 1,000 X 10,000 posteriormente realice las siguientes tareas:"
   ]
  },
  {
   "cell_type": "code",
   "execution_count": 4,
   "id": "ea3e8e39",
   "metadata": {},
   "outputs": [
    {
     "name": "stderr",
     "output_type": "stream",
     "text": [
      "Warning message in `[<-.ff_array`(`*tmp*`, , value = 1:12):\n",
      "“number of elements to replace is not multiple of values for replacement”\n"
     ]
    },
    {
     "data": {
      "text/plain": [
       "ff (open) integer length=10000000 (10000000) dim=c(1000,10000) dimorder=c(1,2)\n",
       "        [,1] [,2] [,3] [,4] [,5] [,6] [,7] [,8]   [,9993] [,9994] [,9995]\n",
       "[1,]       1    5    9    1    5    9    1    5 :       9       1       5\n",
       "[2,]       2    6   10    2    6   10    2    6 :      10       2       6\n",
       "[3,]       3    7   11    3    7   11    3    7 :      11       3       7\n",
       "[4,]       4    8   12    4    8   12    4    8 :      12       4       8\n",
       "[5,]       5    9    1    5    9    1    5    9 :       1       5       9\n",
       "[6,]       6   10    2    6   10    2    6   10 :       2       6      10\n",
       "[7,]       7   11    3    7   11    3    7   11 :       3       7      11\n",
       "[8,]       8   12    4    8   12    4    8   12 :       4       8      12\n",
       ":          :    :    :    :    :    :    :    : :       :       :       :\n",
       "[993,]     9    1    5    9    1    5    9    1 :       5       9       1\n",
       "[994,]    10    2    6   10    2    6   10    2 :       6      10       2\n",
       "[995,]    11    3    7   11    3    7   11    3 :       7      11       3\n",
       "[996,]    12    4    8   12    4    8   12    4 :       8      12       4\n",
       "[997,]     1    5    9    1    5    9    1    5 :       9       1       5\n",
       "[998,]     2    6   10    2    6   10    2    6 :      10       2       6\n",
       "[999,]     3    7   11    3    7   11    3    7 :      11       3       7\n",
       "[1000,]    4    8   12    4    8   12    4    8 :      12       4       8\n",
       "        [,9996] [,9997] [,9998] [,9999] [,10000]\n",
       "[1,]          9       1       5       9        1\n",
       "[2,]         10       2       6      10        2\n",
       "[3,]         11       3       7      11        3\n",
       "[4,]         12       4       8      12        4\n",
       "[5,]          1       5       9       1        5\n",
       "[6,]          2       6      10       2        6\n",
       "[7,]          3       7      11       3        7\n",
       "[8,]          4       8      12       4        8\n",
       ":             :       :       :       :        :\n",
       "[993,]        5       9       1       5        9\n",
       "[994,]        6      10       2       6       10\n",
       "[995,]        7      11       3       7       11\n",
       "[996,]        8      12       4       8       12\n",
       "[997,]        9       1       5       9        1\n",
       "[998,]       10       2       6      10        2\n",
       "[999,]       11       3       7      11        3\n",
       "[1000,]      12       4       8      12        4"
      ]
     },
     "metadata": {},
     "output_type": "display_data"
    }
   ],
   "source": [
    "ff(1:12, dim=c(1000,10000))"
   ]
  },
  {
   "cell_type": "code",
   "execution_count": null,
   "id": "bc7370e5",
   "metadata": {},
   "outputs": [],
   "source": []
  }
 ],
 "metadata": {
  "kernelspec": {
   "display_name": "R",
   "language": "R",
   "name": "ir"
  },
  "language_info": {
   "codemirror_mode": "r",
   "file_extension": ".r",
   "mimetype": "text/x-r-source",
   "name": "R",
   "pygments_lexer": "r",
   "version": "4.0.0"
  }
 },
 "nbformat": 4,
 "nbformat_minor": 5
}
